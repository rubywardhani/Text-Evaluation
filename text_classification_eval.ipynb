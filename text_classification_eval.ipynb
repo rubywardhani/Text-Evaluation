{
 "cells": [
  {
   "cell_type": "code",
   "execution_count": 1,
   "id": "46003854",
   "metadata": {},
   "outputs": [],
   "source": [
    "# Library untuk manipulasi data & visualisasi\n",
    "import pandas as pd\n",
    "import numpy as np\n",
    "import matplotlib.pyplot as plt\n",
    "import seaborn as sns\n",
    "\n",
    "# Library untuk dataset dan ML\n",
    "from datasets import load_dataset\n",
    "from sklearn.model_selection import train_test_split\n",
    "from sklearn.feature_extraction.text import TfidfVectorizer\n",
    "from sklearn.linear_model import LogisticRegression\n",
    "from sklearn.metrics import accuracy_score, precision_score, recall_score, f1_score, confusion_matrix\n",
    "\n",
    "# Statistik evaluasi\n",
    "from scipy.stats import ttest_rel, wilcoxon"
   ]
  },
  {
   "cell_type": "markdown",
   "id": "7233f803",
   "metadata": {},
   "source": [
    "datasets = akses dataset NLP dari Hugging Face.\n",
    "\n",
    "sklearn = untuk vectorisasi, training, evaluasi.\n",
    "\n",
    "scipy.stats = analisis statistik hasil model."
   ]
  },
  {
   "cell_type": "code",
   "execution_count": 2,
   "id": "f34e5492",
   "metadata": {},
   "outputs": [
    {
     "data": {
      "text/html": [
       "<div>\n",
       "<style scoped>\n",
       "    .dataframe tbody tr th:only-of-type {\n",
       "        vertical-align: middle;\n",
       "    }\n",
       "\n",
       "    .dataframe tbody tr th {\n",
       "        vertical-align: top;\n",
       "    }\n",
       "\n",
       "    .dataframe thead th {\n",
       "        text-align: right;\n",
       "    }\n",
       "</style>\n",
       "<table border=\"1\" class=\"dataframe\">\n",
       "  <thead>\n",
       "    <tr style=\"text-align: right;\">\n",
       "      <th></th>\n",
       "      <th>text</th>\n",
       "      <th>label</th>\n",
       "    </tr>\n",
       "  </thead>\n",
       "  <tbody>\n",
       "    <tr>\n",
       "      <th>0</th>\n",
       "      <td>Go until jurong point, crazy.. Available only ...</td>\n",
       "      <td>0</td>\n",
       "    </tr>\n",
       "    <tr>\n",
       "      <th>1</th>\n",
       "      <td>Ok lar... Joking wif u oni...\\n</td>\n",
       "      <td>0</td>\n",
       "    </tr>\n",
       "    <tr>\n",
       "      <th>2</th>\n",
       "      <td>Free entry in 2 a wkly comp to win FA Cup fina...</td>\n",
       "      <td>1</td>\n",
       "    </tr>\n",
       "    <tr>\n",
       "      <th>3</th>\n",
       "      <td>U dun say so early hor... U c already then say...</td>\n",
       "      <td>0</td>\n",
       "    </tr>\n",
       "    <tr>\n",
       "      <th>4</th>\n",
       "      <td>Nah I don't think he goes to usf, he lives aro...</td>\n",
       "      <td>0</td>\n",
       "    </tr>\n",
       "  </tbody>\n",
       "</table>\n",
       "</div>"
      ],
      "text/plain": [
       "                                                text  label\n",
       "0  Go until jurong point, crazy.. Available only ...      0\n",
       "1                    Ok lar... Joking wif u oni...\\n      0\n",
       "2  Free entry in 2 a wkly comp to win FA Cup fina...      1\n",
       "3  U dun say so early hor... U c already then say...      0\n",
       "4  Nah I don't think he goes to usf, he lives aro...      0"
      ]
     },
     "execution_count": 2,
     "metadata": {},
     "output_type": "execute_result"
    }
   ],
   "source": [
    "# Load dataset SMS spam (ringan, hanya 5.5k data)\n",
    "dataset = load_dataset(\"sms_spam\", split=\"train\")\n",
    "df = pd.DataFrame(dataset)\n",
    "\n",
    "# Rename kolom agar lebih familiar\n",
    "df = df.rename(columns={'sms': 'text', 'label': 'label'})\n",
    "\n",
    "# Cek 5 baris pertama\n",
    "df.head()"
   ]
  },
  {
   "cell_type": "code",
   "execution_count": 3,
   "id": "c8d0b3c2",
   "metadata": {},
   "outputs": [
    {
     "data": {
      "text/plain": [
       "label\n",
       "0    4827\n",
       "1     747\n",
       "Name: count, dtype: int64"
      ]
     },
     "execution_count": 3,
     "metadata": {},
     "output_type": "execute_result"
    }
   ],
   "source": [
    "# Untuk mengetahui apakah data balanced\n",
    "df[\"label\"].value_counts()"
   ]
  },
  {
   "cell_type": "code",
   "execution_count": 4,
   "id": "16873795",
   "metadata": {},
   "outputs": [],
   "source": [
    "# Split: 80% train, 20% test\n",
    "X_train, X_test, y_train, y_test = train_test_split(\n",
    "    df[\"text\"], df[\"label\"], test_size=0.2, random_state=42\n",
    ")\n",
    "\n",
    "# TF-IDF Vectorizer: ubah teks jadi angka\n",
    "vectorizer = TfidfVectorizer()\n",
    "X_train_vec = vectorizer.fit_transform(X_train)\n",
    "X_test_vec = vectorizer.transform(X_test)"
   ]
  },
  {
   "cell_type": "code",
   "execution_count": 5,
   "id": "f6f72aca",
   "metadata": {},
   "outputs": [],
   "source": [
    "model = LogisticRegression(max_iter=1000)\n",
    "model.fit(X_train_vec, y_train)\n",
    "\n",
    "# Prediksi\n",
    "y_pred = model.predict(X_test_vec)"
   ]
  },
  {
   "cell_type": "code",
   "execution_count": 6,
   "id": "5983c2a5",
   "metadata": {},
   "outputs": [
    {
     "name": "stdout",
     "output_type": "stream",
     "text": [
      "Accuracy: 0.972\n",
      "Precision: 0.992\n",
      "Recall: 0.814\n",
      "F1 Score: 0.894\n"
     ]
    }
   ],
   "source": [
    "acc = accuracy_score(y_test, y_pred)\n",
    "prec = precision_score(y_test, y_pred)\n",
    "rec = recall_score(y_test, y_pred)\n",
    "f1 = f1_score(y_test, y_pred)\n",
    "\n",
    "print(f\"Accuracy: {acc:.3f}\")\n",
    "print(f\"Precision: {prec:.3f}\")\n",
    "print(f\"Recall: {rec:.3f}\")\n",
    "print(f\"F1 Score: {f1:.3f}\")"
   ]
  },
  {
   "cell_type": "markdown",
   "id": "e76256e3",
   "metadata": {},
   "source": [
    "Accuracy: seberapa banyak prediksi benar.\n",
    "\n",
    "Precision: dari semua yang diprediksi spam, berapa yang benar-benar spam.\n",
    "\n",
    "Recall: dari semua spam, berapa yang berhasil dideteksi.\n",
    "\n",
    "F1 Score: gabungan harmonis precision dan recall (penting jika data imbalance)."
   ]
  },
  {
   "cell_type": "code",
   "execution_count": 7,
   "id": "3ad7a487",
   "metadata": {},
   "outputs": [
    {
     "data": {
      "image/png": "[encoded data removed]",
      "text/plain": [
       "<Figure size 640x480 with 2 Axes>"
      ]
     },
     "metadata": {},
     "output_type": "display_data"
    }
   ],
   "source": [
    "cm = confusion_matrix(y_test, y_pred)\n",
    "sns.heatmap(cm, annot=True, fmt='d', cmap='Blues')\n",
    "plt.xlabel(\"Predicted\")\n",
    "plt.ylabel(\"Actual\")\n",
    "plt.title(\"Confusion Matrix\")\n",
    "plt.show()"
   ]
  },
  {
   "cell_type": "code",
   "execution_count": 8,
   "id": "c395c8d9",
   "metadata": {},
   "outputs": [
    {
     "name": "stdout",
     "output_type": "stream",
     "text": [
      "Paired t-test p-value: 0.0173\n",
      "Wilcoxon test p-value: 0.0625\n"
     ]
    }
   ],
   "source": [
    "# Simulasi skor 5-fold cross-validation\n",
    "model_a_scores = [0.85, 0.86, 0.84, 0.87, 0.85]\n",
    "model_b_scores = [0.82, 0.80, 0.83, 0.81, 0.82]\n",
    "\n",
    "# Paired t-test\n",
    "t_stat, p_val = ttest_rel(model_a_scores, model_b_scores)\n",
    "print(f\"Paired t-test p-value: {p_val:.4f}\")\n",
    "\n",
    "# Wilcoxon test\n",
    "w_stat, p_val_w = wilcoxon(model_a_scores, model_b_scores)\n",
    "print(f\"Wilcoxon test p-value: {p_val_w:.4f}\")"
   ]
  },
  {
   "cell_type": "markdown",
   "id": "4f913aae",
   "metadata": {},
   "source": [
    "p-value < 0.05 → beda model signifikan.\n",
    "\n",
    "t-test: asumsi distribusi normal.\n",
    "\n",
    "Wilcoxon: non-parametrik (jika data tidak normal)."
   ]
  },
  {
   "cell_type": "code",
   "execution_count": 9,
   "id": "de166285",
   "metadata": {},
   "outputs": [
    {
     "data": {
      "image/png": "[encoded data removed]",
      "text/plain": [
       "<Figure size 640x480 with 1 Axes>"
      ]
     },
     "metadata": {},
     "output_type": "display_data"
    }
   ],
   "source": [
    "labels = ['Fold1', 'Fold2', 'Fold3', 'Fold4', 'Fold5']\n",
    "x = np.arange(len(labels))\n",
    "width = 0.35\n",
    "\n",
    "plt.bar(x - width/2, model_a_scores, width, label='Model A')\n",
    "plt.bar(x + width/2, model_b_scores, width, label='Model B')\n",
    "plt.ylabel('Accuracy')\n",
    "plt.title('Model A vs Model B (5-Fold)')\n",
    "plt.xticks(x, labels)\n",
    "plt.ylim(0.75, 0.9)\n",
    "plt.legend()\n",
    "plt.show()"
   ]
  }
 ],
 "metadata": {
  "kernelspec": {
   "display_name": ".venv",
   "language": "python",
   "name": "python3"
  },
  "language_info": {
   "codemirror_mode": {
    "name": "ipython",
    "version": 3
   },
   "file_extension": ".py",
   "mimetype": "text/x-python",
   "name": "python",
   "nbconvert_exporter": "python",
   "pygments_lexer": "ipython3",
   "version": "3.13.3"
  }
 },
 "nbformat": 4,
 "nbformat_minor": 5
}
